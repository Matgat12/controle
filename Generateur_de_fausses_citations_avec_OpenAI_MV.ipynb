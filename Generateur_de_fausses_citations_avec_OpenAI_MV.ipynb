{
  "nbformat": 4,
  "nbformat_minor": 0,
  "metadata": {
    "colab": {
      "provenance": [],
      "include_colab_link": true
    },
    "kernelspec": {
      "name": "python3",
      "display_name": "Python 3"
    },
    "language_info": {
      "name": "python"
    }
  },
  "cells": [
    {
      "cell_type": "markdown",
      "metadata": {
        "id": "view-in-github",
        "colab_type": "text"
      },
      "source": [
        "<a href=\"https://colab.research.google.com/github/Matgat12/controle/blob/master/Generateur_de_fausses_citations_avec_OpenAI_MV.ipynb\" target=\"_parent\"><img src=\"https://colab.research.google.com/assets/colab-badge.svg\" alt=\"Open In Colab\"/></a>"
      ]
    },
    {
      "cell_type": "code",
      "execution_count": null,
      "metadata": {
        "id": "L7gLt1faN1VH"
      },
      "outputs": [],
      "source": [
        "# Commencez par installer les paquets nécessaires d'OpenAI\n",
        "# Pour installer des paquets dans Colab, comme si on était dans sa terminale, on utilise la notation : !\n",
        "# J'installe le version 0.28 d'openai car le code de ce cahier est configuré pour fonctionner avec cette version.\n",
        "# Puisque les API évoluent, dans le futur, cette version sera certainement remplacée par une autre plus récente et le code devra de toute évidence être mis à jour\n",
        "! pip install openai==0.28"
      ]
    },
    {
      "cell_type": "code",
      "source": [
        "# Si vous souhaitez vérifier quelle version d'openai vous venez d'installer, tapez ceci\n",
        "!pip show openai"
      ],
      "metadata": {
        "id": "OsAKYEO08YWa"
      },
      "execution_count": null,
      "outputs": []
    },
    {
      "cell_type": "code",
      "source": [
        "# Importez votre clé d'API OpenAI. Pour faire cet exercise, il vous faudra créer votre propre clé.\n",
        "# Pour en savoir plus : https://platform.openai.com/docs/overview\n",
        "import openai\n",
        "openai.api_key = \"votre clé\""
      ],
      "metadata": {
        "id": "Fxs3QcSbOCNw"
      },
      "execution_count": null,
      "outputs": []
    },
    {
      "cell_type": "code",
      "source": [
        "# Si vous êtes curieux et que vous souhaitez voir tous les modèles disponibles d'OpenAI\n",
        "openai.Model.list()"
      ],
      "metadata": {
        "id": "8Bzqku3ISc4t"
      },
      "execution_count": null,
      "outputs": []
    },
    {
      "cell_type": "code",
      "source": [
        "# On fait une fonction pour envoyer un texte à l'API d'OpenAI.\n",
        "def get_completion(prompt, model=\"gpt-3.5-turbo\"):\n",
        "    messages = [\n",
        "        {\"role\": \"system\", \"content\": \"Tu es un générateur de fausses citations philosophiques courtes qui ont l'air d'être profondes mais qui ne veulent rien dire, dans le style de Deepak Chopra\"},\n",
        "        {\"role\": \"user\", \"content\": prompt}\n",
        "        ]\n",
        "# On utilise la fonction ChatCompletion.create() de l'objet openai\n",
        "    response = openai.ChatCompletion.create(\n",
        "        model=model,\n",
        "        messages=messages,\n",
        "        temperature=0.7 # Ceci est le niveau de hasard dans les réponses d'OpenAI. Valeur entre 0 et 2. Plus c'est prôche de 2, plus les réponses seront \"créatives\"\n",
        "    )\n",
        "# les réponses d'OpenAI sont en format jSON et donc on doit fouiller dedans pour isoler le texte qui nous intéresse\n",
        "    return response.choices[0].message.content"
      ],
      "metadata": {
        "id": "FuOpSApeoDFx"
      },
      "execution_count": null,
      "outputs": []
    },
    {
      "cell_type": "code",
      "source": [
        "prompt = \"Génère une citation de maximum 30 mots, avec le nom d'une personne fictive d'origine indienne qui est à l'origine de cette citation\"\n",
        "response = get_completion(prompt)\n",
        "print(response)"
      ],
      "metadata": {
        "id": "sSJTtAE6TWPU"
      },
      "execution_count": null,
      "outputs": []
    },
    {
      "cell_type": "code",
      "source": [
        "# L'API d'OpenAI n'est pas limitée à la génération de textes. On peut aussi générer des images !!\n",
        "from IPython.display import Image, display\n",
        "\n",
        "# on fait une nouvelle fonction capable de génèrer des images\n",
        "# cette fonction utilise la fonction Image.create() de l'objet openai\n",
        "def generate_image(prompt):\n",
        "  response = openai.Image.create(\n",
        "    model=\"dall-e-2\",\n",
        "    prompt=prompt,\n",
        "    n=1, # le nombre d'images qu'on souhaite générer\n",
        "    size=\"1024x1024\", # la taille de l'image\n",
        "    quality=\"standard\" # la qualité de l'image\n",
        "  )\n",
        "\n",
        "  image_url = response.data[0].url\n",
        "  display(Image(url=image_url)) # on peut montrer l'image à l'intérieur de ce notepad\n",
        "  return image_url # et on peut imprimer l'URL de l'image si on en a besoin\n",
        "\n"
      ],
      "metadata": {
        "id": "jIkUe0QDluPE"
      },
      "execution_count": null,
      "outputs": []
    },
    {
      "cell_type": "code",
      "source": [
        "# ici on met le prompt, ou la description de l'image qu'on souhaite créer\n",
        "imageURL = generate_image(\"photography of an indian guru smiling\")\n",
        "print(imageURL)"
      ],
      "metadata": {
        "id": "n4U4aXHzxtKJ"
      },
      "execution_count": null,
      "outputs": []
    }
  ]
}